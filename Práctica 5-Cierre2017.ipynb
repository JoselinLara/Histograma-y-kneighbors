{
 "cells": [
  {
   "cell_type": "code",
   "execution_count": 2,
   "metadata": {},
   "outputs": [
    {
     "name": "stderr",
     "output_type": "stream",
     "text": [
      "In C:\\Users\\hades\\Anaconda3\\lib\\site-packages\\matplotlib\\mpl-data\\stylelib\\_classic_test.mplstyle: \n",
      "The text.latex.unicode rcparam was deprecated in Matplotlib 3.0 and will be removed in 3.2.\n",
      "In C:\\Users\\hades\\Anaconda3\\lib\\site-packages\\matplotlib\\mpl-data\\stylelib\\_classic_test.mplstyle: \n",
      "The savefig.frameon rcparam was deprecated in Matplotlib 3.1 and will be removed in 3.3.\n",
      "In C:\\Users\\hades\\Anaconda3\\lib\\site-packages\\matplotlib\\mpl-data\\stylelib\\_classic_test.mplstyle: \n",
      "The pgf.debug rcparam was deprecated in Matplotlib 3.0 and will be removed in 3.2.\n",
      "In C:\\Users\\hades\\Anaconda3\\lib\\site-packages\\matplotlib\\mpl-data\\stylelib\\_classic_test.mplstyle: \n",
      "The verbose.level rcparam was deprecated in Matplotlib 3.1 and will be removed in 3.3.\n",
      "In C:\\Users\\hades\\Anaconda3\\lib\\site-packages\\matplotlib\\mpl-data\\stylelib\\_classic_test.mplstyle: \n",
      "The verbose.fileo rcparam was deprecated in Matplotlib 3.1 and will be removed in 3.3.\n"
     ]
    }
   ],
   "source": [
    "import pandas as pd\n",
    "import numpy as np\n",
    "import matplotlib.pyplot as plt\n",
    "from matplotlib.colors import ListedColormap\n",
    "import matplotlib.patches as mpatches\n",
    "import seaborn as sb\n",
    " \n",
    "%matplotlib inline\n",
    "plt.rcParams['figure.figsize'] = (16, 9)\n",
    "plt.style.use('ggplot')\n",
    " \n",
    "from sklearn.model_selection import train_test_split\n",
    "from sklearn.preprocessing import MinMaxScaler\n",
    "from sklearn.neighbors import KNeighborsClassifier\n",
    "from sklearn.metrics import classification_report\n",
    "from sklearn.metrics import confusion_matrix\n"
   ]
  },
  {
   "cell_type": "code",
   "execution_count": 44,
   "metadata": {},
   "outputs": [
    {
     "data": {
      "text/html": [
       "<div>\n",
       "<style scoped>\n",
       "    .dataframe tbody tr th:only-of-type {\n",
       "        vertical-align: middle;\n",
       "    }\n",
       "\n",
       "    .dataframe tbody tr th {\n",
       "        vertical-align: top;\n",
       "    }\n",
       "\n",
       "    .dataframe thead th {\n",
       "        text-align: right;\n",
       "    }\n",
       "</style>\n",
       "<table border=\"1\" class=\"dataframe\">\n",
       "  <thead>\n",
       "    <tr style=\"text-align: right;\">\n",
       "      <th></th>\n",
       "      <th>Anio</th>\n",
       "      <th>Cveestado</th>\n",
       "      <th>Cveddr</th>\n",
       "      <th>Cvempio</th>\n",
       "      <th>Cveespecie</th>\n",
       "      <th>Volumen</th>\n",
       "      <th>Peso</th>\n",
       "      <th>Precio</th>\n",
       "      <th>Valor</th>\n",
       "      <th>Asacrificado</th>\n",
       "      <th>Nomproducto</th>\n",
       "    </tr>\n",
       "  </thead>\n",
       "  <tbody>\n",
       "    <tr>\n",
       "      <th>0</th>\n",
       "      <td>2017</td>\n",
       "      <td>1</td>\n",
       "      <td>1</td>\n",
       "      <td>1</td>\n",
       "      <td>1</td>\n",
       "      <td>310.521</td>\n",
       "      <td>0.000</td>\n",
       "      <td>45.60</td>\n",
       "      <td>14160.036</td>\n",
       "      <td>0</td>\n",
       "      <td>Miel</td>\n",
       "    </tr>\n",
       "    <tr>\n",
       "      <th>1</th>\n",
       "      <td>2017</td>\n",
       "      <td>1</td>\n",
       "      <td>1</td>\n",
       "      <td>1</td>\n",
       "      <td>3</td>\n",
       "      <td>99912.530</td>\n",
       "      <td>1.776</td>\n",
       "      <td>28.03</td>\n",
       "      <td>2800597.573</td>\n",
       "      <td>56247778</td>\n",
       "      <td>Carne</td>\n",
       "    </tr>\n",
       "    <tr>\n",
       "      <th>2</th>\n",
       "      <td>2017</td>\n",
       "      <td>1</td>\n",
       "      <td>1</td>\n",
       "      <td>1</td>\n",
       "      <td>3</td>\n",
       "      <td>126951.235</td>\n",
       "      <td>2.257</td>\n",
       "      <td>19.60</td>\n",
       "      <td>2488734.489</td>\n",
       "      <td>0</td>\n",
       "      <td>Ganado en pie</td>\n",
       "    </tr>\n",
       "    <tr>\n",
       "      <th>3</th>\n",
       "      <td>2017</td>\n",
       "      <td>1</td>\n",
       "      <td>1</td>\n",
       "      <td>1</td>\n",
       "      <td>3</td>\n",
       "      <td>2769.820</td>\n",
       "      <td>0.000</td>\n",
       "      <td>20.02</td>\n",
       "      <td>55451.796</td>\n",
       "      <td>0</td>\n",
       "      <td>Huevo-plato</td>\n",
       "    </tr>\n",
       "    <tr>\n",
       "      <th>4</th>\n",
       "      <td>2017</td>\n",
       "      <td>1</td>\n",
       "      <td>1</td>\n",
       "      <td>1</td>\n",
       "      <td>4</td>\n",
       "      <td>9036.628</td>\n",
       "      <td>251.492</td>\n",
       "      <td>72.33</td>\n",
       "      <td>653577.630</td>\n",
       "      <td>35932</td>\n",
       "      <td>Carne</td>\n",
       "    </tr>\n",
       "  </tbody>\n",
       "</table>\n",
       "</div>"
      ],
      "text/plain": [
       "   Anio  Cveestado  Cveddr  Cvempio  Cveespecie     Volumen     Peso  Precio  \\\n",
       "0  2017          1       1        1           1     310.521    0.000   45.60   \n",
       "1  2017          1       1        1           3   99912.530    1.776   28.03   \n",
       "2  2017          1       1        1           3  126951.235    2.257   19.60   \n",
       "3  2017          1       1        1           3    2769.820    0.000   20.02   \n",
       "4  2017          1       1        1           4    9036.628  251.492   72.33   \n",
       "\n",
       "         Valor  Asacrificado    Nomproducto  \n",
       "0    14160.036             0           Miel  \n",
       "1  2800597.573      56247778          Carne  \n",
       "2  2488734.489             0  Ganado en pie  \n",
       "3    55451.796             0    Huevo-plato  \n",
       "4   653577.630         35932          Carne  "
      ]
     },
     "execution_count": 44,
     "metadata": {},
     "output_type": "execute_result"
    }
   ],
   "source": [
    "path = 'C:\\\\Users\\\\hades\\\\Downloads\\\\dataset práctica 1\\\\cierre_2017.csv'\n",
    "\n",
    "dataframe = pd.read_csv(path, encoding='latin', error_bad_lines=False)\n",
    "dataframe.head()"
   ]
  },
  {
   "cell_type": "code",
   "execution_count": 45,
   "metadata": {},
   "outputs": [
    {
     "data": {
      "text/html": [
       "<div>\n",
       "<style scoped>\n",
       "    .dataframe tbody tr th:only-of-type {\n",
       "        vertical-align: middle;\n",
       "    }\n",
       "\n",
       "    .dataframe tbody tr th {\n",
       "        vertical-align: top;\n",
       "    }\n",
       "\n",
       "    .dataframe thead th {\n",
       "        text-align: right;\n",
       "    }\n",
       "</style>\n",
       "<table border=\"1\" class=\"dataframe\">\n",
       "  <thead>\n",
       "    <tr style=\"text-align: right;\">\n",
       "      <th></th>\n",
       "      <th>Anio</th>\n",
       "      <th>Cveestado</th>\n",
       "      <th>Cveddr</th>\n",
       "      <th>Cvempio</th>\n",
       "      <th>Cveespecie</th>\n",
       "      <th>Volumen</th>\n",
       "      <th>Peso</th>\n",
       "      <th>Precio</th>\n",
       "      <th>Valor</th>\n",
       "      <th>Asacrificado</th>\n",
       "    </tr>\n",
       "  </thead>\n",
       "  <tbody>\n",
       "    <tr>\n",
       "      <th>count</th>\n",
       "      <td>33364.0</td>\n",
       "      <td>33364.000000</td>\n",
       "      <td>33364.000000</td>\n",
       "      <td>33364.000000</td>\n",
       "      <td>33364.000000</td>\n",
       "      <td>33364.000000</td>\n",
       "      <td>33364.000000</td>\n",
       "      <td>33364.000000</td>\n",
       "      <td>3.336400e+04</td>\n",
       "      <td>3.336400e+04</td>\n",
       "    </tr>\n",
       "    <tr>\n",
       "      <th>mean</th>\n",
       "      <td>2017.0</td>\n",
       "      <td>19.351157</td>\n",
       "      <td>104.390361</td>\n",
       "      <td>112.804850</td>\n",
       "      <td>7.008422</td>\n",
       "      <td>930.626722</td>\n",
       "      <td>64.973957</td>\n",
       "      <td>38.465256</td>\n",
       "      <td>2.061115e+04</td>\n",
       "      <td>5.298244e+04</td>\n",
       "    </tr>\n",
       "    <tr>\n",
       "      <th>std</th>\n",
       "      <td>0.0</td>\n",
       "      <td>7.210192</td>\n",
       "      <td>46.148441</td>\n",
       "      <td>135.596668</td>\n",
       "      <td>4.427825</td>\n",
       "      <td>9076.133896</td>\n",
       "      <td>114.218916</td>\n",
       "      <td>20.428050</td>\n",
       "      <td>1.444663e+05</td>\n",
       "      <td>1.021284e+06</td>\n",
       "    </tr>\n",
       "    <tr>\n",
       "      <th>min</th>\n",
       "      <td>2017.0</td>\n",
       "      <td>1.000000</td>\n",
       "      <td>1.000000</td>\n",
       "      <td>1.000000</td>\n",
       "      <td>1.000000</td>\n",
       "      <td>0.001000</td>\n",
       "      <td>0.000000</td>\n",
       "      <td>0.600000</td>\n",
       "      <td>2.000000e-02</td>\n",
       "      <td>0.000000e+00</td>\n",
       "    </tr>\n",
       "    <tr>\n",
       "      <th>25%</th>\n",
       "      <td>2017.0</td>\n",
       "      <td>14.000000</td>\n",
       "      <td>72.000000</td>\n",
       "      <td>24.000000</td>\n",
       "      <td>3.000000</td>\n",
       "      <td>4.717750</td>\n",
       "      <td>1.370000</td>\n",
       "      <td>24.720000</td>\n",
       "      <td>1.646242e+02</td>\n",
       "      <td>0.000000e+00</td>\n",
       "    </tr>\n",
       "    <tr>\n",
       "      <th>50%</th>\n",
       "      <td>2017.0</td>\n",
       "      <td>20.000000</td>\n",
       "      <td>105.000000</td>\n",
       "      <td>58.000000</td>\n",
       "      <td>6.000000</td>\n",
       "      <td>24.841500</td>\n",
       "      <td>16.915500</td>\n",
       "      <td>34.900000</td>\n",
       "      <td>8.070175e+02</td>\n",
       "      <td>0.000000e+00</td>\n",
       "    </tr>\n",
       "    <tr>\n",
       "      <th>75%</th>\n",
       "      <td>2017.0</td>\n",
       "      <td>24.000000</td>\n",
       "      <td>128.000000</td>\n",
       "      <td>138.000000</td>\n",
       "      <td>12.000000</td>\n",
       "      <td>152.251750</td>\n",
       "      <td>73.314500</td>\n",
       "      <td>51.000000</td>\n",
       "      <td>4.499471e+03</td>\n",
       "      <td>4.050000e+02</td>\n",
       "    </tr>\n",
       "    <tr>\n",
       "      <th>max</th>\n",
       "      <td>2017.0</td>\n",
       "      <td>32.000000</td>\n",
       "      <td>193.000000</td>\n",
       "      <td>570.000000</td>\n",
       "      <td>14.000000</td>\n",
       "      <td>806597.422000</td>\n",
       "      <td>592.261000</td>\n",
       "      <td>124.080000</td>\n",
       "      <td>7.482948e+06</td>\n",
       "      <td>5.624778e+07</td>\n",
       "    </tr>\n",
       "  </tbody>\n",
       "</table>\n",
       "</div>"
      ],
      "text/plain": [
       "          Anio     Cveestado        Cveddr       Cvempio    Cveespecie  \\\n",
       "count  33364.0  33364.000000  33364.000000  33364.000000  33364.000000   \n",
       "mean    2017.0     19.351157    104.390361    112.804850      7.008422   \n",
       "std        0.0      7.210192     46.148441    135.596668      4.427825   \n",
       "min     2017.0      1.000000      1.000000      1.000000      1.000000   \n",
       "25%     2017.0     14.000000     72.000000     24.000000      3.000000   \n",
       "50%     2017.0     20.000000    105.000000     58.000000      6.000000   \n",
       "75%     2017.0     24.000000    128.000000    138.000000     12.000000   \n",
       "max     2017.0     32.000000    193.000000    570.000000     14.000000   \n",
       "\n",
       "             Volumen          Peso        Precio         Valor  Asacrificado  \n",
       "count   33364.000000  33364.000000  33364.000000  3.336400e+04  3.336400e+04  \n",
       "mean      930.626722     64.973957     38.465256  2.061115e+04  5.298244e+04  \n",
       "std      9076.133896    114.218916     20.428050  1.444663e+05  1.021284e+06  \n",
       "min         0.001000      0.000000      0.600000  2.000000e-02  0.000000e+00  \n",
       "25%         4.717750      1.370000     24.720000  1.646242e+02  0.000000e+00  \n",
       "50%        24.841500     16.915500     34.900000  8.070175e+02  0.000000e+00  \n",
       "75%       152.251750     73.314500     51.000000  4.499471e+03  4.050000e+02  \n",
       "max    806597.422000    592.261000    124.080000  7.482948e+06  5.624778e+07  "
      ]
     },
     "execution_count": 45,
     "metadata": {},
     "output_type": "execute_result"
    }
   ],
   "source": [
    "dataframe.describe()"
   ]
  },
  {
   "cell_type": "code",
   "execution_count": 46,
   "metadata": {},
   "outputs": [
    {
     "name": "stderr",
     "output_type": "stream",
     "text": [
      "C:\\Users\\hades\\Anaconda3\\lib\\site-packages\\pandas\\plotting\\_tools.py:307: MatplotlibDeprecationWarning: \n",
      "The rowNum attribute was deprecated in Matplotlib 3.2 and will be removed two minor releases later. Use ax.get_subplotspec().rowspan.start instead.\n",
      "  layout[ax.rowNum, ax.colNum] = ax.get_visible()\n",
      "C:\\Users\\hades\\Anaconda3\\lib\\site-packages\\pandas\\plotting\\_tools.py:307: MatplotlibDeprecationWarning: \n",
      "The colNum attribute was deprecated in Matplotlib 3.2 and will be removed two minor releases later. Use ax.get_subplotspec().colspan.start instead.\n",
      "  layout[ax.rowNum, ax.colNum] = ax.get_visible()\n",
      "C:\\Users\\hades\\Anaconda3\\lib\\site-packages\\pandas\\plotting\\_tools.py:313: MatplotlibDeprecationWarning: \n",
      "The rowNum attribute was deprecated in Matplotlib 3.2 and will be removed two minor releases later. Use ax.get_subplotspec().rowspan.start instead.\n",
      "  if not layout[ax.rowNum + 1, ax.colNum]:\n",
      "C:\\Users\\hades\\Anaconda3\\lib\\site-packages\\pandas\\plotting\\_tools.py:313: MatplotlibDeprecationWarning: \n",
      "The colNum attribute was deprecated in Matplotlib 3.2 and will be removed two minor releases later. Use ax.get_subplotspec().colspan.start instead.\n",
      "  if not layout[ax.rowNum + 1, ax.colNum]:\n"
     ]
    },
    {
     "data": {
      "image/png": "[encoded data removed]",
      "text/plain": [
       "<Figure size 432x288 with 12 Axes>"
      ]
     },
     "metadata": {
      "needs_background": "light"
     },
     "output_type": "display_data"
    }
   ],
   "source": [
    "dataframe.hist()\n",
    "plt.show()"
   ]
  },
  {
   "cell_type": "code",
   "execution_count": 47,
   "metadata": {},
   "outputs": [
    {
     "name": "stdout",
     "output_type": "stream",
     "text": [
      "Nomproducto\n",
      "Carne            12594\n",
      "Cera              1167\n",
      "Ganado en pie    12594\n",
      "Huevo-plato       2147\n",
      "Lana               613\n",
      "Leche             2734\n",
      "Miel              1515\n",
      "dtype: int64\n"
     ]
    }
   ],
   "source": [
    "print(dataframe.groupby('Nomproducto').size())"
   ]
  },
  {
   "cell_type": "code",
   "execution_count": 48,
   "metadata": {},
   "outputs": [
    {
     "name": "stderr",
     "output_type": "stream",
     "text": [
      "C:\\Users\\hades\\Anaconda3\\lib\\site-packages\\seaborn\\categorical.py:3666: UserWarning: The `factorplot` function has been renamed to `catplot`. The original name will be removed in a future release. Please update your code. Note that the default `kind` in `factorplot` (`'point'`) has changed `'strip'` in `catplot`.\n",
      "  warnings.warn(msg)\n"
     ]
    },
    {
     "data": {
      "text/plain": [
       "<seaborn.axisgrid.FacetGrid at 0x1de1d0333c8>"
      ]
     },
     "execution_count": 48,
     "metadata": {},
     "output_type": "execute_result"
    },
    {
     "data": {
      "image/png": "[encoded data removed]",
      "text/plain": [
       "<Figure size 1080x360 with 1 Axes>"
      ]
     },
     "metadata": {
      "needs_background": "light"
     },
     "output_type": "display_data"
    }
   ],
   "source": [
    "sb.factorplot('Nomproducto',data=dataframe,kind=\"count\", aspect=3)"
   ]
  },
  {
   "cell_type": "code",
   "execution_count": 49,
   "metadata": {},
   "outputs": [
    {
     "data": {
      "text/plain": [
       "['Miel', 'Carne', 'Ganado en pie', 'Huevo-plato', 'Leche', 'Cera', 'Lana']"
      ]
     },
     "execution_count": 49,
     "metadata": {},
     "output_type": "execute_result"
    }
   ],
   "source": [
    "list(dataframe['Nomproducto'].unique())"
   ]
  },
  {
   "cell_type": "code",
   "execution_count": 50,
   "metadata": {},
   "outputs": [
    {
     "data": {
      "text/plain": [
       "{'Miel': 1,\n",
       " 'Carne': 2,\n",
       " 'Ganado en pie': 3,\n",
       " 'Huevo-plato': 4,\n",
       " 'Leche': 5,\n",
       " 'Cera': 6,\n",
       " 'Lana': 7}"
      ]
     },
     "execution_count": 50,
     "metadata": {},
     "output_type": "execute_result"
    }
   ],
   "source": [
    "keys = list(dataframe['Nomproducto'].unique())\n",
    "vals = range(1,8)\n",
    "act = dict(zip(keys, vals))\n",
    "act"
   ]
  },
  {
   "cell_type": "code",
   "execution_count": 51,
   "metadata": {},
   "outputs": [
    {
     "data": {
      "text/html": [
       "<div>\n",
       "<style scoped>\n",
       "    .dataframe tbody tr th:only-of-type {\n",
       "        vertical-align: middle;\n",
       "    }\n",
       "\n",
       "    .dataframe tbody tr th {\n",
       "        vertical-align: top;\n",
       "    }\n",
       "\n",
       "    .dataframe thead th {\n",
       "        text-align: right;\n",
       "    }\n",
       "</style>\n",
       "<table border=\"1\" class=\"dataframe\">\n",
       "  <thead>\n",
       "    <tr style=\"text-align: right;\">\n",
       "      <th></th>\n",
       "      <th>Anio</th>\n",
       "      <th>Cveestado</th>\n",
       "      <th>Cveddr</th>\n",
       "      <th>Cvempio</th>\n",
       "      <th>Cveespecie</th>\n",
       "      <th>Volumen</th>\n",
       "      <th>Peso</th>\n",
       "      <th>Precio</th>\n",
       "      <th>Valor</th>\n",
       "      <th>Asacrificado</th>\n",
       "      <th>Nomproducto</th>\n",
       "    </tr>\n",
       "  </thead>\n",
       "  <tbody>\n",
       "    <tr>\n",
       "      <th>0</th>\n",
       "      <td>2017</td>\n",
       "      <td>1</td>\n",
       "      <td>1</td>\n",
       "      <td>1</td>\n",
       "      <td>1</td>\n",
       "      <td>310.521</td>\n",
       "      <td>0.000</td>\n",
       "      <td>45.60</td>\n",
       "      <td>14160.036</td>\n",
       "      <td>0</td>\n",
       "      <td>Miel</td>\n",
       "    </tr>\n",
       "    <tr>\n",
       "      <th>1</th>\n",
       "      <td>2017</td>\n",
       "      <td>1</td>\n",
       "      <td>1</td>\n",
       "      <td>1</td>\n",
       "      <td>3</td>\n",
       "      <td>99912.530</td>\n",
       "      <td>1.776</td>\n",
       "      <td>28.03</td>\n",
       "      <td>2800597.573</td>\n",
       "      <td>56247778</td>\n",
       "      <td>Carne</td>\n",
       "    </tr>\n",
       "    <tr>\n",
       "      <th>2</th>\n",
       "      <td>2017</td>\n",
       "      <td>1</td>\n",
       "      <td>1</td>\n",
       "      <td>1</td>\n",
       "      <td>3</td>\n",
       "      <td>126951.235</td>\n",
       "      <td>2.257</td>\n",
       "      <td>19.60</td>\n",
       "      <td>2488734.489</td>\n",
       "      <td>0</td>\n",
       "      <td>Ganado en pie</td>\n",
       "    </tr>\n",
       "    <tr>\n",
       "      <th>3</th>\n",
       "      <td>2017</td>\n",
       "      <td>1</td>\n",
       "      <td>1</td>\n",
       "      <td>1</td>\n",
       "      <td>3</td>\n",
       "      <td>2769.820</td>\n",
       "      <td>0.000</td>\n",
       "      <td>20.02</td>\n",
       "      <td>55451.796</td>\n",
       "      <td>0</td>\n",
       "      <td>Huevo-plato</td>\n",
       "    </tr>\n",
       "    <tr>\n",
       "      <th>4</th>\n",
       "      <td>2017</td>\n",
       "      <td>1</td>\n",
       "      <td>1</td>\n",
       "      <td>1</td>\n",
       "      <td>4</td>\n",
       "      <td>9036.628</td>\n",
       "      <td>251.492</td>\n",
       "      <td>72.33</td>\n",
       "      <td>653577.630</td>\n",
       "      <td>35932</td>\n",
       "      <td>Carne</td>\n",
       "    </tr>\n",
       "  </tbody>\n",
       "</table>\n",
       "</div>"
      ],
      "text/plain": [
       "   Anio  Cveestado  Cveddr  Cvempio  Cveespecie     Volumen     Peso  Precio  \\\n",
       "0  2017          1       1        1           1     310.521    0.000   45.60   \n",
       "1  2017          1       1        1           3   99912.530    1.776   28.03   \n",
       "2  2017          1       1        1           3  126951.235    2.257   19.60   \n",
       "3  2017          1       1        1           3    2769.820    0.000   20.02   \n",
       "4  2017          1       1        1           4    9036.628  251.492   72.33   \n",
       "\n",
       "         Valor  Asacrificado    Nomproducto  \n",
       "0    14160.036             0           Miel  \n",
       "1  2800597.573      56247778          Carne  \n",
       "2  2488734.489             0  Ganado en pie  \n",
       "3    55451.796             0    Huevo-plato  \n",
       "4   653577.630         35932          Carne  "
      ]
     },
     "execution_count": 51,
     "metadata": {},
     "output_type": "execute_result"
    }
   ],
   "source": [
    "df_copy = dataframe.copy()\n",
    "df_copy.head()"
   ]
  },
  {
   "cell_type": "code",
   "execution_count": 52,
   "metadata": {},
   "outputs": [
    {
     "data": {
      "text/html": [
       "<div>\n",
       "<style scoped>\n",
       "    .dataframe tbody tr th:only-of-type {\n",
       "        vertical-align: middle;\n",
       "    }\n",
       "\n",
       "    .dataframe tbody tr th {\n",
       "        vertical-align: top;\n",
       "    }\n",
       "\n",
       "    .dataframe thead th {\n",
       "        text-align: right;\n",
       "    }\n",
       "</style>\n",
       "<table border=\"1\" class=\"dataframe\">\n",
       "  <thead>\n",
       "    <tr style=\"text-align: right;\">\n",
       "      <th></th>\n",
       "      <th>Anio</th>\n",
       "      <th>Cveestado</th>\n",
       "      <th>Cveddr</th>\n",
       "      <th>Cvempio</th>\n",
       "      <th>Cveespecie</th>\n",
       "      <th>Volumen</th>\n",
       "      <th>Peso</th>\n",
       "      <th>Precio</th>\n",
       "      <th>Valor</th>\n",
       "      <th>Asacrificado</th>\n",
       "      <th>Nomproducto</th>\n",
       "    </tr>\n",
       "  </thead>\n",
       "  <tbody>\n",
       "    <tr>\n",
       "      <th>0</th>\n",
       "      <td>2017</td>\n",
       "      <td>1</td>\n",
       "      <td>1</td>\n",
       "      <td>1</td>\n",
       "      <td>1</td>\n",
       "      <td>310.521</td>\n",
       "      <td>0.000</td>\n",
       "      <td>45.60</td>\n",
       "      <td>14160.036</td>\n",
       "      <td>0</td>\n",
       "      <td>1</td>\n",
       "    </tr>\n",
       "    <tr>\n",
       "      <th>1</th>\n",
       "      <td>2017</td>\n",
       "      <td>1</td>\n",
       "      <td>1</td>\n",
       "      <td>1</td>\n",
       "      <td>3</td>\n",
       "      <td>99912.530</td>\n",
       "      <td>1.776</td>\n",
       "      <td>28.03</td>\n",
       "      <td>2800597.573</td>\n",
       "      <td>56247778</td>\n",
       "      <td>2</td>\n",
       "    </tr>\n",
       "    <tr>\n",
       "      <th>2</th>\n",
       "      <td>2017</td>\n",
       "      <td>1</td>\n",
       "      <td>1</td>\n",
       "      <td>1</td>\n",
       "      <td>3</td>\n",
       "      <td>126951.235</td>\n",
       "      <td>2.257</td>\n",
       "      <td>19.60</td>\n",
       "      <td>2488734.489</td>\n",
       "      <td>0</td>\n",
       "      <td>3</td>\n",
       "    </tr>\n",
       "    <tr>\n",
       "      <th>3</th>\n",
       "      <td>2017</td>\n",
       "      <td>1</td>\n",
       "      <td>1</td>\n",
       "      <td>1</td>\n",
       "      <td>3</td>\n",
       "      <td>2769.820</td>\n",
       "      <td>0.000</td>\n",
       "      <td>20.02</td>\n",
       "      <td>55451.796</td>\n",
       "      <td>0</td>\n",
       "      <td>4</td>\n",
       "    </tr>\n",
       "    <tr>\n",
       "      <th>4</th>\n",
       "      <td>2017</td>\n",
       "      <td>1</td>\n",
       "      <td>1</td>\n",
       "      <td>1</td>\n",
       "      <td>4</td>\n",
       "      <td>9036.628</td>\n",
       "      <td>251.492</td>\n",
       "      <td>72.33</td>\n",
       "      <td>653577.630</td>\n",
       "      <td>35932</td>\n",
       "      <td>2</td>\n",
       "    </tr>\n",
       "  </tbody>\n",
       "</table>\n",
       "</div>"
      ],
      "text/plain": [
       "   Anio  Cveestado  Cveddr  Cvempio  Cveespecie     Volumen     Peso  Precio  \\\n",
       "0  2017          1       1        1           1     310.521    0.000   45.60   \n",
       "1  2017          1       1        1           3   99912.530    1.776   28.03   \n",
       "2  2017          1       1        1           3  126951.235    2.257   19.60   \n",
       "3  2017          1       1        1           3    2769.820    0.000   20.02   \n",
       "4  2017          1       1        1           4    9036.628  251.492   72.33   \n",
       "\n",
       "         Valor  Asacrificado  Nomproducto  \n",
       "0    14160.036             0            1  \n",
       "1  2800597.573      56247778            2  \n",
       "2  2488734.489             0            3  \n",
       "3    55451.796             0            4  \n",
       "4   653577.630         35932            2  "
      ]
     },
     "execution_count": 52,
     "metadata": {},
     "output_type": "execute_result"
    }
   ],
   "source": [
    "df_copy['Nomproducto'] = dataframe['Nomproducto'].map(act)\n",
    "df_copy.head()"
   ]
  },
  {
   "cell_type": "code",
   "execution_count": 53,
   "metadata": {},
   "outputs": [
    {
     "data": {
      "text/plain": [
       "[1, 2, 3, 4, 5, 6, 7]"
      ]
     },
     "execution_count": 53,
     "metadata": {},
     "output_type": "execute_result"
    }
   ],
   "source": [
    "list(df_copy['Nomproducto'].unique())"
   ]
  },
  {
   "cell_type": "code",
   "execution_count": 54,
   "metadata": {},
   "outputs": [
    {
     "data": {
      "text/plain": [
       "<seaborn.axisgrid.FacetGrid at 0x1de1d57d1d0>"
      ]
     },
     "execution_count": 54,
     "metadata": {},
     "output_type": "execute_result"
    },
    {
     "data": {
      "image/png": "[encoded data removed]",
      "text/plain": [
       "<Figure size 1080x360 with 1 Axes>"
      ]
     },
     "metadata": {
      "needs_background": "light"
     },
     "output_type": "display_data"
    }
   ],
   "source": [
    "sb.factorplot('Nomproducto',data=df_copy,kind=\"count\", aspect=3)"
   ]
  },
  {
   "cell_type": "code",
   "execution_count": 55,
   "metadata": {},
   "outputs": [],
   "source": [
    "\n",
    "X = df_copy[['Nomproducto','Cveestado']].values\n",
    "y = df_copy['Nomproducto'].values\n",
    "\n",
    "X_train, X_test, y_train, y_test = train_test_split(X, y, random_state=0)\n",
    "scaler = MinMaxScaler()\n",
    "X_train = scaler.fit_transform(X_train)\n",
    "X_test = scaler.transform(X_test)\n"
   ]
  },
  {
   "cell_type": "code",
   "execution_count": 56,
   "metadata": {},
   "outputs": [
    {
     "name": "stdout",
     "output_type": "stream",
     "text": [
      "Accuracy of K-NN classifier on training set: 1.00\n",
      "Accuracy of K-NN classifier on test set: 1.00\n"
     ]
    }
   ],
   "source": [
    "n_neighbors = 7\n",
    "\n",
    "knn = KNeighborsClassifier(n_neighbors)\n",
    "knn.fit(X_train, y_train)\n",
    "print('Accuracy of K-NN classifier on training set: {:.2f}'\n",
    "     .format(knn.score(X_train, y_train)))\n",
    "print('Accuracy of K-NN classifier on test set: {:.2f}'\n",
    "     .format(knn.score(X_test, y_test)))\n"
   ]
  },
  {
   "cell_type": "code",
   "execution_count": 57,
   "metadata": {},
   "outputs": [
    {
     "name": "stdout",
     "output_type": "stream",
     "text": [
      "[[ 367    0    0    0    0    0    0]\n",
      " [   0 3132    0    0    0    0    0]\n",
      " [   0    0 3212    0    0    0    0]\n",
      " [   0    0    0  533    0    0    0]\n",
      " [   0    0    0    0  669    0    0]\n",
      " [   0    0    0    0    0  289    0]\n",
      " [   0    0    0    0    0    0  139]]\n",
      "              precision    recall  f1-score   support\n",
      "\n",
      "           1       1.00      1.00      1.00       367\n",
      "           2       1.00      1.00      1.00      3132\n",
      "           3       1.00      1.00      1.00      3212\n",
      "           4       1.00      1.00      1.00       533\n",
      "           5       1.00      1.00      1.00       669\n",
      "           6       1.00      1.00      1.00       289\n",
      "           7       1.00      1.00      1.00       139\n",
      "\n",
      "    accuracy                           1.00      8341\n",
      "   macro avg       1.00      1.00      1.00      8341\n",
      "weighted avg       1.00      1.00      1.00      8341\n",
      "\n"
     ]
    }
   ],
   "source": [
    "pred = knn.predict(X_test)\n",
    "print(confusion_matrix(y_test, pred))\n",
    "print(classification_report(y_test, pred))"
   ]
  },
  {
   "cell_type": "code",
   "execution_count": null,
   "metadata": {},
   "outputs": [],
   "source": []
  },
  {
   "cell_type": "code",
   "execution_count": null,
   "metadata": {},
   "outputs": [],
   "source": []
  }
 ],
 "metadata": {
  "kernelspec": {
   "display_name": "Python 3",
   "language": "python",
   "name": "python3"
  },
  "language_info": {
   "codemirror_mode": {
    "name": "ipython",
    "version": 3
   },
   "file_extension": ".py",
   "mimetype": "text/x-python",
   "name": "python",
   "nbconvert_exporter": "python",
   "pygments_lexer": "ipython3",
   "version": "3.7.1"
  }
 },
 "nbformat": 4,
 "nbformat_minor": 2
}
