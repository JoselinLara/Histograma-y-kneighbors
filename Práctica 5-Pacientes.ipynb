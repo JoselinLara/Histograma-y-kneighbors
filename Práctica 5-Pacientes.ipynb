{
 "cells": [
  {
   "cell_type": "code",
   "execution_count": 2,
   "metadata": {},
   "outputs": [
    {
     "name": "stderr",
     "output_type": "stream",
     "text": [
      "In C:\\Users\\hades\\Anaconda3\\lib\\site-packages\\matplotlib\\mpl-data\\stylelib\\_classic_test.mplstyle: \n",
      "The text.latex.unicode rcparam was deprecated in Matplotlib 3.0 and will be removed in 3.2.\n",
      "In C:\\Users\\hades\\Anaconda3\\lib\\site-packages\\matplotlib\\mpl-data\\stylelib\\_classic_test.mplstyle: \n",
      "The savefig.frameon rcparam was deprecated in Matplotlib 3.1 and will be removed in 3.3.\n",
      "In C:\\Users\\hades\\Anaconda3\\lib\\site-packages\\matplotlib\\mpl-data\\stylelib\\_classic_test.mplstyle: \n",
      "The pgf.debug rcparam was deprecated in Matplotlib 3.0 and will be removed in 3.2.\n",
      "In C:\\Users\\hades\\Anaconda3\\lib\\site-packages\\matplotlib\\mpl-data\\stylelib\\_classic_test.mplstyle: \n",
      "The verbose.level rcparam was deprecated in Matplotlib 3.1 and will be removed in 3.3.\n",
      "In C:\\Users\\hades\\Anaconda3\\lib\\site-packages\\matplotlib\\mpl-data\\stylelib\\_classic_test.mplstyle: \n",
      "The verbose.fileo rcparam was deprecated in Matplotlib 3.1 and will be removed in 3.3.\n"
     ]
    }
   ],
   "source": [
    "import pandas as pd\n",
    "import numpy as np\n",
    "import matplotlib.pyplot as plt\n",
    "from matplotlib.colors import ListedColormap\n",
    "import matplotlib.patches as mpatches\n",
    "import seaborn as sb\n",
    " \n",
    "%matplotlib inline\n",
    "plt.rcParams['figure.figsize'] = (16, 9)\n",
    "plt.style.use('ggplot')\n",
    " \n",
    "from sklearn.model_selection import train_test_split\n",
    "from sklearn.preprocessing import MinMaxScaler\n",
    "from sklearn.neighbors import KNeighborsClassifier\n",
    "from sklearn.metrics import classification_report\n",
    "from sklearn.metrics import confusion_matrix\n"
   ]
  },
  {
   "cell_type": "code",
   "execution_count": 3,
   "metadata": {},
   "outputs": [
    {
     "data": {
      "text/html": [
       "<div>\n",
       "<style scoped>\n",
       "    .dataframe tbody tr th:only-of-type {\n",
       "        vertical-align: middle;\n",
       "    }\n",
       "\n",
       "    .dataframe tbody tr th {\n",
       "        vertical-align: top;\n",
       "    }\n",
       "\n",
       "    .dataframe thead th {\n",
       "        text-align: right;\n",
       "    }\n",
       "</style>\n",
       "<table border=\"1\" class=\"dataframe\">\n",
       "  <thead>\n",
       "    <tr style=\"text-align: right;\">\n",
       "      <th></th>\n",
       "      <th>CODIGO_SEXO</th>\n",
       "      <th>GRUPO_SANGUINEO</th>\n",
       "      <th>RH</th>\n",
       "      <th>ORIGEN_INJERTO</th>\n",
       "      <th>ESTABLECIMIENTO</th>\n",
       "      <th>INSTITUCION</th>\n",
       "      <th>CODIGO_ENTIDAD_FEDERATIVA_ESTABLECIMIENTO</th>\n",
       "      <th>CODIGO_ENTIDAD_FEDERATIVA_ORIGEN_PACIENTE</th>\n",
       "      <th>CODIGO_ENTIDAD_FEDERATIVA_RESIDENCIA_PACIENTE</th>\n",
       "      <th>ORGANO</th>\n",
       "    </tr>\n",
       "  </thead>\n",
       "  <tbody>\n",
       "    <tr>\n",
       "      <th>0</th>\n",
       "      <td>2</td>\n",
       "      <td>O</td>\n",
       "      <td>POSITIVO</td>\n",
       "      <td>CADAVER</td>\n",
       "      <td>UNIDAD MEDICA DE ALTA ESPECIALIDAD HOSPITAL DE...</td>\n",
       "      <td>IMSS</td>\n",
       "      <td>14</td>\n",
       "      <td>99</td>\n",
       "      <td>99</td>\n",
       "      <td>RIÑÓN</td>\n",
       "    </tr>\n",
       "    <tr>\n",
       "      <th>1</th>\n",
       "      <td>1</td>\n",
       "      <td>O</td>\n",
       "      <td>POSITIVO</td>\n",
       "      <td>CADAVER</td>\n",
       "      <td>UNIDAD MEDICA DE ALTA ESPECIALIDAD HOSPITAL DE...</td>\n",
       "      <td>IMSS</td>\n",
       "      <td>14</td>\n",
       "      <td>99</td>\n",
       "      <td>99</td>\n",
       "      <td>RIÑÓN</td>\n",
       "    </tr>\n",
       "    <tr>\n",
       "      <th>2</th>\n",
       "      <td>2</td>\n",
       "      <td>O</td>\n",
       "      <td>NEGATIVO</td>\n",
       "      <td>CADAVER</td>\n",
       "      <td>UNIDAD MEDICA DE ALTA ESPECIALIDAD HOSPITAL DE...</td>\n",
       "      <td>IMSS</td>\n",
       "      <td>14</td>\n",
       "      <td>99</td>\n",
       "      <td>99</td>\n",
       "      <td>RIÑÓN</td>\n",
       "    </tr>\n",
       "    <tr>\n",
       "      <th>3</th>\n",
       "      <td>2</td>\n",
       "      <td>O</td>\n",
       "      <td>POSITIVO</td>\n",
       "      <td>CADAVER</td>\n",
       "      <td>UNIDAD MEDICA DE ALTA ESPECIALIDAD HOSPITAL DE...</td>\n",
       "      <td>IMSS</td>\n",
       "      <td>14</td>\n",
       "      <td>99</td>\n",
       "      <td>99</td>\n",
       "      <td>RIÑÓN</td>\n",
       "    </tr>\n",
       "    <tr>\n",
       "      <th>4</th>\n",
       "      <td>2</td>\n",
       "      <td>O</td>\n",
       "      <td>NEGATIVO</td>\n",
       "      <td>CADAVER</td>\n",
       "      <td>UNIDAD MEDICA DE ALTA ESPECIALIDAD HOSPITAL DE...</td>\n",
       "      <td>IMSS</td>\n",
       "      <td>14</td>\n",
       "      <td>99</td>\n",
       "      <td>99</td>\n",
       "      <td>RIÑÓN</td>\n",
       "    </tr>\n",
       "  </tbody>\n",
       "</table>\n",
       "</div>"
      ],
      "text/plain": [
       "   CODIGO_SEXO GRUPO_SANGUINEO        RH ORIGEN_INJERTO  \\\n",
       "0            2               O  POSITIVO        CADAVER   \n",
       "1            1               O  POSITIVO        CADAVER   \n",
       "2            2               O  NEGATIVO        CADAVER   \n",
       "3            2               O  POSITIVO        CADAVER   \n",
       "4            2               O  NEGATIVO        CADAVER   \n",
       "\n",
       "                                     ESTABLECIMIENTO INSTITUCION  \\\n",
       "0  UNIDAD MEDICA DE ALTA ESPECIALIDAD HOSPITAL DE...        IMSS   \n",
       "1  UNIDAD MEDICA DE ALTA ESPECIALIDAD HOSPITAL DE...        IMSS   \n",
       "2  UNIDAD MEDICA DE ALTA ESPECIALIDAD HOSPITAL DE...        IMSS   \n",
       "3  UNIDAD MEDICA DE ALTA ESPECIALIDAD HOSPITAL DE...        IMSS   \n",
       "4  UNIDAD MEDICA DE ALTA ESPECIALIDAD HOSPITAL DE...        IMSS   \n",
       "\n",
       "   CODIGO_ENTIDAD_FEDERATIVA_ESTABLECIMIENTO  \\\n",
       "0                                         14   \n",
       "1                                         14   \n",
       "2                                         14   \n",
       "3                                         14   \n",
       "4                                         14   \n",
       "\n",
       "   CODIGO_ENTIDAD_FEDERATIVA_ORIGEN_PACIENTE  \\\n",
       "0                                         99   \n",
       "1                                         99   \n",
       "2                                         99   \n",
       "3                                         99   \n",
       "4                                         99   \n",
       "\n",
       "   CODIGO_ENTIDAD_FEDERATIVA_RESIDENCIA_PACIENTE ORGANO  \n",
       "0                                             99  RIÑÓN  \n",
       "1                                             99  RIÑÓN  \n",
       "2                                             99  RIÑÓN  \n",
       "3                                             99  RIÑÓN  \n",
       "4                                             99  RIÑÓN  "
      ]
     },
     "execution_count": 3,
     "metadata": {},
     "output_type": "execute_result"
    }
   ],
   "source": [
    "path = 'C:\\\\Users\\\\hades\\\\Downloads\\\\dataset práctica 1\\\\Pacientes_en_espera.csv'\n",
    "\n",
    "dataframe = pd.read_csv(path, encoding='latin', error_bad_lines=False)\n",
    "dataframe.head()"
   ]
  },
  {
   "cell_type": "code",
   "execution_count": 4,
   "metadata": {},
   "outputs": [
    {
     "data": {
      "text/html": [
       "<div>\n",
       "<style scoped>\n",
       "    .dataframe tbody tr th:only-of-type {\n",
       "        vertical-align: middle;\n",
       "    }\n",
       "\n",
       "    .dataframe tbody tr th {\n",
       "        vertical-align: top;\n",
       "    }\n",
       "\n",
       "    .dataframe thead th {\n",
       "        text-align: right;\n",
       "    }\n",
       "</style>\n",
       "<table border=\"1\" class=\"dataframe\">\n",
       "  <thead>\n",
       "    <tr style=\"text-align: right;\">\n",
       "      <th></th>\n",
       "      <th>CODIGO_SEXO</th>\n",
       "      <th>CODIGO_ENTIDAD_FEDERATIVA_ESTABLECIMIENTO</th>\n",
       "      <th>CODIGO_ENTIDAD_FEDERATIVA_ORIGEN_PACIENTE</th>\n",
       "      <th>CODIGO_ENTIDAD_FEDERATIVA_RESIDENCIA_PACIENTE</th>\n",
       "    </tr>\n",
       "  </thead>\n",
       "  <tbody>\n",
       "    <tr>\n",
       "      <th>count</th>\n",
       "      <td>23277.000000</td>\n",
       "      <td>23277.000000</td>\n",
       "      <td>23277.000000</td>\n",
       "      <td>23277.000000</td>\n",
       "    </tr>\n",
       "    <tr>\n",
       "      <th>mean</th>\n",
       "      <td>1.417708</td>\n",
       "      <td>13.295184</td>\n",
       "      <td>17.659621</td>\n",
       "      <td>17.124629</td>\n",
       "    </tr>\n",
       "    <tr>\n",
       "      <th>std</th>\n",
       "      <td>0.493192</td>\n",
       "      <td>6.539806</td>\n",
       "      <td>15.255734</td>\n",
       "      <td>14.219956</td>\n",
       "    </tr>\n",
       "    <tr>\n",
       "      <th>min</th>\n",
       "      <td>1.000000</td>\n",
       "      <td>1.000000</td>\n",
       "      <td>1.000000</td>\n",
       "      <td>1.000000</td>\n",
       "    </tr>\n",
       "    <tr>\n",
       "      <th>25%</th>\n",
       "      <td>1.000000</td>\n",
       "      <td>9.000000</td>\n",
       "      <td>10.000000</td>\n",
       "      <td>10.000000</td>\n",
       "    </tr>\n",
       "    <tr>\n",
       "      <th>50%</th>\n",
       "      <td>1.000000</td>\n",
       "      <td>11.000000</td>\n",
       "      <td>14.000000</td>\n",
       "      <td>14.000000</td>\n",
       "    </tr>\n",
       "    <tr>\n",
       "      <th>75%</th>\n",
       "      <td>2.000000</td>\n",
       "      <td>15.000000</td>\n",
       "      <td>21.000000</td>\n",
       "      <td>21.000000</td>\n",
       "    </tr>\n",
       "    <tr>\n",
       "      <th>max</th>\n",
       "      <td>2.000000</td>\n",
       "      <td>32.000000</td>\n",
       "      <td>99.000000</td>\n",
       "      <td>99.000000</td>\n",
       "    </tr>\n",
       "  </tbody>\n",
       "</table>\n",
       "</div>"
      ],
      "text/plain": [
       "        CODIGO_SEXO  CODIGO_ENTIDAD_FEDERATIVA_ESTABLECIMIENTO  \\\n",
       "count  23277.000000                               23277.000000   \n",
       "mean       1.417708                                  13.295184   \n",
       "std        0.493192                                   6.539806   \n",
       "min        1.000000                                   1.000000   \n",
       "25%        1.000000                                   9.000000   \n",
       "50%        1.000000                                  11.000000   \n",
       "75%        2.000000                                  15.000000   \n",
       "max        2.000000                                  32.000000   \n",
       "\n",
       "       CODIGO_ENTIDAD_FEDERATIVA_ORIGEN_PACIENTE  \\\n",
       "count                               23277.000000   \n",
       "mean                                   17.659621   \n",
       "std                                    15.255734   \n",
       "min                                     1.000000   \n",
       "25%                                    10.000000   \n",
       "50%                                    14.000000   \n",
       "75%                                    21.000000   \n",
       "max                                    99.000000   \n",
       "\n",
       "       CODIGO_ENTIDAD_FEDERATIVA_RESIDENCIA_PACIENTE  \n",
       "count                                   23277.000000  \n",
       "mean                                       17.124629  \n",
       "std                                        14.219956  \n",
       "min                                         1.000000  \n",
       "25%                                        10.000000  \n",
       "50%                                        14.000000  \n",
       "75%                                        21.000000  \n",
       "max                                        99.000000  "
      ]
     },
     "execution_count": 4,
     "metadata": {},
     "output_type": "execute_result"
    }
   ],
   "source": [
    "dataframe.describe()"
   ]
  },
  {
   "cell_type": "code",
   "execution_count": 5,
   "metadata": {},
   "outputs": [
    {
     "name": "stderr",
     "output_type": "stream",
     "text": [
      "C:\\Users\\hades\\Anaconda3\\lib\\site-packages\\pandas\\plotting\\_tools.py:307: MatplotlibDeprecationWarning: \n",
      "The rowNum attribute was deprecated in Matplotlib 3.2 and will be removed two minor releases later. Use ax.get_subplotspec().rowspan.start instead.\n",
      "  layout[ax.rowNum, ax.colNum] = ax.get_visible()\n",
      "C:\\Users\\hades\\Anaconda3\\lib\\site-packages\\pandas\\plotting\\_tools.py:307: MatplotlibDeprecationWarning: \n",
      "The colNum attribute was deprecated in Matplotlib 3.2 and will be removed two minor releases later. Use ax.get_subplotspec().colspan.start instead.\n",
      "  layout[ax.rowNum, ax.colNum] = ax.get_visible()\n",
      "C:\\Users\\hades\\Anaconda3\\lib\\site-packages\\pandas\\plotting\\_tools.py:313: MatplotlibDeprecationWarning: \n",
      "The rowNum attribute was deprecated in Matplotlib 3.2 and will be removed two minor releases later. Use ax.get_subplotspec().rowspan.start instead.\n",
      "  if not layout[ax.rowNum + 1, ax.colNum]:\n",
      "C:\\Users\\hades\\Anaconda3\\lib\\site-packages\\pandas\\plotting\\_tools.py:313: MatplotlibDeprecationWarning: \n",
      "The colNum attribute was deprecated in Matplotlib 3.2 and will be removed two minor releases later. Use ax.get_subplotspec().colspan.start instead.\n",
      "  if not layout[ax.rowNum + 1, ax.colNum]:\n"
     ]
    },
    {
     "data": {
      "image/png": "[encoded data removed]",
      "text/plain": [
       "<Figure size 432x288 with 4 Axes>"
      ]
     },
     "metadata": {
      "needs_background": "light"
     },
     "output_type": "display_data"
    }
   ],
   "source": [
    "dataframe.hist()\n",
    "plt.show()"
   ]
  },
  {
   "cell_type": "code",
   "execution_count": 6,
   "metadata": {},
   "outputs": [
    {
     "name": "stdout",
     "output_type": "stream",
     "text": [
      "ORGANO\n",
      "BANCO CORNEAS         3\n",
      "C.P.H.               95\n",
      "CARA                  1\n",
      "CORAZÓN              43\n",
      "CORAZÓN-PULMÓN        1\n",
      "CÓRNEA             5713\n",
      "EXTREMIDADES          1\n",
      "HÍGADO              317\n",
      "HÍGADO-RIÑÓN          3\n",
      "MANO                  1\n",
      "PARATIROIDES         11\n",
      "PIEL                  1\n",
      "PULMÓN                4\n",
      "PÁNCREAS              5\n",
      "RIÑÓN             17069\n",
      "RIÑÓN-PÁNCREAS        2\n",
      "RIÑÓN-RIÑÓN           7\n",
      "dtype: int64\n"
     ]
    }
   ],
   "source": [
    "print(dataframe.groupby('ORGANO').size())"
   ]
  },
  {
   "cell_type": "code",
   "execution_count": 7,
   "metadata": {},
   "outputs": [
    {
     "name": "stderr",
     "output_type": "stream",
     "text": [
      "C:\\Users\\hades\\Anaconda3\\lib\\site-packages\\seaborn\\categorical.py:3666: UserWarning: The `factorplot` function has been renamed to `catplot`. The original name will be removed in a future release. Please update your code. Note that the default `kind` in `factorplot` (`'point'`) has changed `'strip'` in `catplot`.\n",
      "  warnings.warn(msg)\n"
     ]
    },
    {
     "data": {
      "text/plain": [
       "<seaborn.axisgrid.FacetGrid at 0x1f89f476d30>"
      ]
     },
     "execution_count": 7,
     "metadata": {},
     "output_type": "execute_result"
    },
    {
     "data": {
      "image/png": "[encoded data removed]",
      "text/plain": [
       "<Figure size 1080x360 with 1 Axes>"
      ]
     },
     "metadata": {
      "needs_background": "light"
     },
     "output_type": "display_data"
    }
   ],
   "source": [
    "sb.factorplot('ORGANO',data=dataframe,kind=\"count\", aspect=3)"
   ]
  },
  {
   "cell_type": "code",
   "execution_count": 8,
   "metadata": {},
   "outputs": [
    {
     "data": {
      "text/plain": [
       "['RIÑÓN',\n",
       " 'CÓRNEA',\n",
       " 'HÍGADO',\n",
       " 'C.P.H.',\n",
       " 'CORAZÓN',\n",
       " 'PARATIROIDES',\n",
       " 'RIÑÓN-RIÑÓN',\n",
       " 'MANO',\n",
       " 'EXTREMIDADES',\n",
       " 'BANCO CORNEAS',\n",
       " 'RIÑÓN-PÁNCREAS',\n",
       " 'PÁNCREAS',\n",
       " 'HÍGADO-RIÑÓN',\n",
       " 'CORAZÓN-PULMÓN',\n",
       " 'PIEL',\n",
       " 'CARA',\n",
       " 'PULMÓN']"
      ]
     },
     "execution_count": 8,
     "metadata": {},
     "output_type": "execute_result"
    }
   ],
   "source": [
    "list(dataframe['ORGANO'].unique())"
   ]
  },
  {
   "cell_type": "code",
   "execution_count": 11,
   "metadata": {},
   "outputs": [
    {
     "data": {
      "text/plain": [
       "{'RIÑÓN': 1,\n",
       " 'CÓRNEA': 2,\n",
       " 'HÍGADO': 3,\n",
       " 'C.P.H.': 4,\n",
       " 'CORAZÓN': 5,\n",
       " 'PARATIROIDES': 6,\n",
       " 'RIÑÓN-RIÑÓN': 7,\n",
       " 'MANO': 8,\n",
       " 'EXTREMIDADES': 9,\n",
       " 'BANCO CORNEAS': 10,\n",
       " 'RIÑÓN-PÁNCREAS': 11,\n",
       " 'PÁNCREAS': 12,\n",
       " 'HÍGADO-RIÑÓN': 13,\n",
       " 'CORAZÓN-PULMÓN': 14,\n",
       " 'PIEL': 15,\n",
       " 'CARA': 16,\n",
       " 'PULMÓN': 17}"
      ]
     },
     "execution_count": 11,
     "metadata": {},
     "output_type": "execute_result"
    }
   ],
   "source": [
    "keys = list(dataframe['ORGANO'].unique())\n",
    "vals = range(1,18)\n",
    "act = dict(zip(keys, vals))\n",
    "act"
   ]
  },
  {
   "cell_type": "code",
   "execution_count": 12,
   "metadata": {},
   "outputs": [
    {
     "data": {
      "text/html": [
       "<div>\n",
       "<style scoped>\n",
       "    .dataframe tbody tr th:only-of-type {\n",
       "        vertical-align: middle;\n",
       "    }\n",
       "\n",
       "    .dataframe tbody tr th {\n",
       "        vertical-align: top;\n",
       "    }\n",
       "\n",
       "    .dataframe thead th {\n",
       "        text-align: right;\n",
       "    }\n",
       "</style>\n",
       "<table border=\"1\" class=\"dataframe\">\n",
       "  <thead>\n",
       "    <tr style=\"text-align: right;\">\n",
       "      <th></th>\n",
       "      <th>CODIGO_SEXO</th>\n",
       "      <th>GRUPO_SANGUINEO</th>\n",
       "      <th>RH</th>\n",
       "      <th>ORIGEN_INJERTO</th>\n",
       "      <th>ESTABLECIMIENTO</th>\n",
       "      <th>INSTITUCION</th>\n",
       "      <th>CODIGO_ENTIDAD_FEDERATIVA_ESTABLECIMIENTO</th>\n",
       "      <th>CODIGO_ENTIDAD_FEDERATIVA_ORIGEN_PACIENTE</th>\n",
       "      <th>CODIGO_ENTIDAD_FEDERATIVA_RESIDENCIA_PACIENTE</th>\n",
       "      <th>ORGANO</th>\n",
       "    </tr>\n",
       "  </thead>\n",
       "  <tbody>\n",
       "    <tr>\n",
       "      <th>0</th>\n",
       "      <td>2</td>\n",
       "      <td>O</td>\n",
       "      <td>POSITIVO</td>\n",
       "      <td>CADAVER</td>\n",
       "      <td>UNIDAD MEDICA DE ALTA ESPECIALIDAD HOSPITAL DE...</td>\n",
       "      <td>IMSS</td>\n",
       "      <td>14</td>\n",
       "      <td>99</td>\n",
       "      <td>99</td>\n",
       "      <td>RIÑÓN</td>\n",
       "    </tr>\n",
       "    <tr>\n",
       "      <th>1</th>\n",
       "      <td>1</td>\n",
       "      <td>O</td>\n",
       "      <td>POSITIVO</td>\n",
       "      <td>CADAVER</td>\n",
       "      <td>UNIDAD MEDICA DE ALTA ESPECIALIDAD HOSPITAL DE...</td>\n",
       "      <td>IMSS</td>\n",
       "      <td>14</td>\n",
       "      <td>99</td>\n",
       "      <td>99</td>\n",
       "      <td>RIÑÓN</td>\n",
       "    </tr>\n",
       "    <tr>\n",
       "      <th>2</th>\n",
       "      <td>2</td>\n",
       "      <td>O</td>\n",
       "      <td>NEGATIVO</td>\n",
       "      <td>CADAVER</td>\n",
       "      <td>UNIDAD MEDICA DE ALTA ESPECIALIDAD HOSPITAL DE...</td>\n",
       "      <td>IMSS</td>\n",
       "      <td>14</td>\n",
       "      <td>99</td>\n",
       "      <td>99</td>\n",
       "      <td>RIÑÓN</td>\n",
       "    </tr>\n",
       "    <tr>\n",
       "      <th>3</th>\n",
       "      <td>2</td>\n",
       "      <td>O</td>\n",
       "      <td>POSITIVO</td>\n",
       "      <td>CADAVER</td>\n",
       "      <td>UNIDAD MEDICA DE ALTA ESPECIALIDAD HOSPITAL DE...</td>\n",
       "      <td>IMSS</td>\n",
       "      <td>14</td>\n",
       "      <td>99</td>\n",
       "      <td>99</td>\n",
       "      <td>RIÑÓN</td>\n",
       "    </tr>\n",
       "    <tr>\n",
       "      <th>4</th>\n",
       "      <td>2</td>\n",
       "      <td>O</td>\n",
       "      <td>NEGATIVO</td>\n",
       "      <td>CADAVER</td>\n",
       "      <td>UNIDAD MEDICA DE ALTA ESPECIALIDAD HOSPITAL DE...</td>\n",
       "      <td>IMSS</td>\n",
       "      <td>14</td>\n",
       "      <td>99</td>\n",
       "      <td>99</td>\n",
       "      <td>RIÑÓN</td>\n",
       "    </tr>\n",
       "  </tbody>\n",
       "</table>\n",
       "</div>"
      ],
      "text/plain": [
       "   CODIGO_SEXO GRUPO_SANGUINEO        RH ORIGEN_INJERTO  \\\n",
       "0            2               O  POSITIVO        CADAVER   \n",
       "1            1               O  POSITIVO        CADAVER   \n",
       "2            2               O  NEGATIVO        CADAVER   \n",
       "3            2               O  POSITIVO        CADAVER   \n",
       "4            2               O  NEGATIVO        CADAVER   \n",
       "\n",
       "                                     ESTABLECIMIENTO INSTITUCION  \\\n",
       "0  UNIDAD MEDICA DE ALTA ESPECIALIDAD HOSPITAL DE...        IMSS   \n",
       "1  UNIDAD MEDICA DE ALTA ESPECIALIDAD HOSPITAL DE...        IMSS   \n",
       "2  UNIDAD MEDICA DE ALTA ESPECIALIDAD HOSPITAL DE...        IMSS   \n",
       "3  UNIDAD MEDICA DE ALTA ESPECIALIDAD HOSPITAL DE...        IMSS   \n",
       "4  UNIDAD MEDICA DE ALTA ESPECIALIDAD HOSPITAL DE...        IMSS   \n",
       "\n",
       "   CODIGO_ENTIDAD_FEDERATIVA_ESTABLECIMIENTO  \\\n",
       "0                                         14   \n",
       "1                                         14   \n",
       "2                                         14   \n",
       "3                                         14   \n",
       "4                                         14   \n",
       "\n",
       "   CODIGO_ENTIDAD_FEDERATIVA_ORIGEN_PACIENTE  \\\n",
       "0                                         99   \n",
       "1                                         99   \n",
       "2                                         99   \n",
       "3                                         99   \n",
       "4                                         99   \n",
       "\n",
       "   CODIGO_ENTIDAD_FEDERATIVA_RESIDENCIA_PACIENTE ORGANO  \n",
       "0                                             99  RIÑÓN  \n",
       "1                                             99  RIÑÓN  \n",
       "2                                             99  RIÑÓN  \n",
       "3                                             99  RIÑÓN  \n",
       "4                                             99  RIÑÓN  "
      ]
     },
     "execution_count": 12,
     "metadata": {},
     "output_type": "execute_result"
    }
   ],
   "source": [
    "df_copy = dataframe.copy()\n",
    "df_copy.head()"
   ]
  },
  {
   "cell_type": "code",
   "execution_count": 14,
   "metadata": {},
   "outputs": [
    {
     "data": {
      "text/html": [
       "<div>\n",
       "<style scoped>\n",
       "    .dataframe tbody tr th:only-of-type {\n",
       "        vertical-align: middle;\n",
       "    }\n",
       "\n",
       "    .dataframe tbody tr th {\n",
       "        vertical-align: top;\n",
       "    }\n",
       "\n",
       "    .dataframe thead th {\n",
       "        text-align: right;\n",
       "    }\n",
       "</style>\n",
       "<table border=\"1\" class=\"dataframe\">\n",
       "  <thead>\n",
       "    <tr style=\"text-align: right;\">\n",
       "      <th></th>\n",
       "      <th>CODIGO_SEXO</th>\n",
       "      <th>GRUPO_SANGUINEO</th>\n",
       "      <th>RH</th>\n",
       "      <th>ORIGEN_INJERTO</th>\n",
       "      <th>ESTABLECIMIENTO</th>\n",
       "      <th>INSTITUCION</th>\n",
       "      <th>CODIGO_ENTIDAD_FEDERATIVA_ESTABLECIMIENTO</th>\n",
       "      <th>CODIGO_ENTIDAD_FEDERATIVA_ORIGEN_PACIENTE</th>\n",
       "      <th>CODIGO_ENTIDAD_FEDERATIVA_RESIDENCIA_PACIENTE</th>\n",
       "      <th>ORGANO</th>\n",
       "    </tr>\n",
       "  </thead>\n",
       "  <tbody>\n",
       "    <tr>\n",
       "      <th>0</th>\n",
       "      <td>2</td>\n",
       "      <td>O</td>\n",
       "      <td>POSITIVO</td>\n",
       "      <td>CADAVER</td>\n",
       "      <td>UNIDAD MEDICA DE ALTA ESPECIALIDAD HOSPITAL DE...</td>\n",
       "      <td>IMSS</td>\n",
       "      <td>14</td>\n",
       "      <td>99</td>\n",
       "      <td>99</td>\n",
       "      <td>1</td>\n",
       "    </tr>\n",
       "    <tr>\n",
       "      <th>1</th>\n",
       "      <td>1</td>\n",
       "      <td>O</td>\n",
       "      <td>POSITIVO</td>\n",
       "      <td>CADAVER</td>\n",
       "      <td>UNIDAD MEDICA DE ALTA ESPECIALIDAD HOSPITAL DE...</td>\n",
       "      <td>IMSS</td>\n",
       "      <td>14</td>\n",
       "      <td>99</td>\n",
       "      <td>99</td>\n",
       "      <td>1</td>\n",
       "    </tr>\n",
       "    <tr>\n",
       "      <th>2</th>\n",
       "      <td>2</td>\n",
       "      <td>O</td>\n",
       "      <td>NEGATIVO</td>\n",
       "      <td>CADAVER</td>\n",
       "      <td>UNIDAD MEDICA DE ALTA ESPECIALIDAD HOSPITAL DE...</td>\n",
       "      <td>IMSS</td>\n",
       "      <td>14</td>\n",
       "      <td>99</td>\n",
       "      <td>99</td>\n",
       "      <td>1</td>\n",
       "    </tr>\n",
       "    <tr>\n",
       "      <th>3</th>\n",
       "      <td>2</td>\n",
       "      <td>O</td>\n",
       "      <td>POSITIVO</td>\n",
       "      <td>CADAVER</td>\n",
       "      <td>UNIDAD MEDICA DE ALTA ESPECIALIDAD HOSPITAL DE...</td>\n",
       "      <td>IMSS</td>\n",
       "      <td>14</td>\n",
       "      <td>99</td>\n",
       "      <td>99</td>\n",
       "      <td>1</td>\n",
       "    </tr>\n",
       "    <tr>\n",
       "      <th>4</th>\n",
       "      <td>2</td>\n",
       "      <td>O</td>\n",
       "      <td>NEGATIVO</td>\n",
       "      <td>CADAVER</td>\n",
       "      <td>UNIDAD MEDICA DE ALTA ESPECIALIDAD HOSPITAL DE...</td>\n",
       "      <td>IMSS</td>\n",
       "      <td>14</td>\n",
       "      <td>99</td>\n",
       "      <td>99</td>\n",
       "      <td>1</td>\n",
       "    </tr>\n",
       "  </tbody>\n",
       "</table>\n",
       "</div>"
      ],
      "text/plain": [
       "   CODIGO_SEXO GRUPO_SANGUINEO        RH ORIGEN_INJERTO  \\\n",
       "0            2               O  POSITIVO        CADAVER   \n",
       "1            1               O  POSITIVO        CADAVER   \n",
       "2            2               O  NEGATIVO        CADAVER   \n",
       "3            2               O  POSITIVO        CADAVER   \n",
       "4            2               O  NEGATIVO        CADAVER   \n",
       "\n",
       "                                     ESTABLECIMIENTO INSTITUCION  \\\n",
       "0  UNIDAD MEDICA DE ALTA ESPECIALIDAD HOSPITAL DE...        IMSS   \n",
       "1  UNIDAD MEDICA DE ALTA ESPECIALIDAD HOSPITAL DE...        IMSS   \n",
       "2  UNIDAD MEDICA DE ALTA ESPECIALIDAD HOSPITAL DE...        IMSS   \n",
       "3  UNIDAD MEDICA DE ALTA ESPECIALIDAD HOSPITAL DE...        IMSS   \n",
       "4  UNIDAD MEDICA DE ALTA ESPECIALIDAD HOSPITAL DE...        IMSS   \n",
       "\n",
       "   CODIGO_ENTIDAD_FEDERATIVA_ESTABLECIMIENTO  \\\n",
       "0                                         14   \n",
       "1                                         14   \n",
       "2                                         14   \n",
       "3                                         14   \n",
       "4                                         14   \n",
       "\n",
       "   CODIGO_ENTIDAD_FEDERATIVA_ORIGEN_PACIENTE  \\\n",
       "0                                         99   \n",
       "1                                         99   \n",
       "2                                         99   \n",
       "3                                         99   \n",
       "4                                         99   \n",
       "\n",
       "   CODIGO_ENTIDAD_FEDERATIVA_RESIDENCIA_PACIENTE  ORGANO  \n",
       "0                                             99       1  \n",
       "1                                             99       1  \n",
       "2                                             99       1  \n",
       "3                                             99       1  \n",
       "4                                             99       1  "
      ]
     },
     "execution_count": 14,
     "metadata": {},
     "output_type": "execute_result"
    }
   ],
   "source": [
    "df_copy['ORGANO'] = dataframe['ORGANO'].map(act)\n",
    "df_copy.head()"
   ]
  },
  {
   "cell_type": "code",
   "execution_count": 15,
   "metadata": {},
   "outputs": [
    {
     "data": {
      "text/plain": [
       "[1, 2, 3, 4, 5, 6, 7, 8, 9, 10, 11, 12, 13, 14, 15, 16, 17]"
      ]
     },
     "execution_count": 15,
     "metadata": {},
     "output_type": "execute_result"
    }
   ],
   "source": [
    "list(df_copy['ORGANO'].unique())"
   ]
  },
  {
   "cell_type": "code",
   "execution_count": 16,
   "metadata": {},
   "outputs": [
    {
     "data": {
      "text/plain": [
       "<seaborn.axisgrid.FacetGrid at 0x1f89f676518>"
      ]
     },
     "execution_count": 16,
     "metadata": {},
     "output_type": "execute_result"
    },
    {
     "data": {
      "image/png": "[encoded data removed]",
      "text/plain": [
       "<Figure size 1080x360 with 1 Axes>"
      ]
     },
     "metadata": {
      "needs_background": "light"
     },
     "output_type": "display_data"
    }
   ],
   "source": [
    "sb.factorplot('ORGANO',data=df_copy,kind=\"count\", aspect=3)"
   ]
  },
  {
   "cell_type": "code",
   "execution_count": 17,
   "metadata": {},
   "outputs": [],
   "source": [
    "\n",
    "X = df_copy[['ORGANO','CODIGO_SEXO']].values\n",
    "y = df_copy['ORGANO'].values\n",
    "\n",
    "X_train, X_test, y_train, y_test = train_test_split(X, y, random_state=0)\n",
    "scaler = MinMaxScaler()\n",
    "X_train = scaler.fit_transform(X_train)\n",
    "X_test = scaler.transform(X_test)\n"
   ]
  },
  {
   "cell_type": "code",
   "execution_count": 22,
   "metadata": {},
   "outputs": [
    {
     "name": "stdout",
     "output_type": "stream",
     "text": [
      "Accuracy of K-NN classifier on training set: 1.00\n",
      "Accuracy of K-NN classifier on test set: 1.00\n"
     ]
    }
   ],
   "source": [
    "n_neighbors = 10\n",
    "\n",
    "knn = KNeighborsClassifier(n_neighbors)\n",
    "knn.fit(X_train, y_train)\n",
    "print('Accuracy of K-NN classifier on training set: {:.2f}'\n",
    "     .format(knn.score(X_train, y_train)))\n",
    "print('Accuracy of K-NN classifier on test set: {:.2f}'\n",
    "     .format(knn.score(X_test, y_test)))\n"
   ]
  },
  {
   "cell_type": "code",
   "execution_count": 23,
   "metadata": {},
   "outputs": [
    {
     "name": "stdout",
     "output_type": "stream",
     "text": [
      "[[4305    0    0    0    0    0    0    0    0    0]\n",
      " [   0 1397    0    0    0    0    0    0    0    0]\n",
      " [   0    0   76    0    0    0    0    0    0    0]\n",
      " [   0    0    0   21    0    0    0    0    0    0]\n",
      " [   0    0    0    0   13    0    0    0    0    0]\n",
      " [   0    0    0    0    0    5    0    0    0    0]\n",
      " [   0    0    0    0    0    0    0    0    0    0]\n",
      " [   0    0    0    0    0    0    1    0    0    0]\n",
      " [   0    0    0    0    0    0    0    1    0    0]\n",
      " [   0    0    0    0    0    0    0    1    0    0]]\n",
      "              precision    recall  f1-score   support\n",
      "\n",
      "           1       1.00      1.00      1.00      4305\n",
      "           2       1.00      1.00      1.00      1397\n",
      "           3       1.00      1.00      1.00        76\n",
      "           4       1.00      1.00      1.00        21\n",
      "           5       1.00      1.00      1.00        13\n",
      "           6       1.00      1.00      1.00         5\n",
      "           7       0.00      0.00      0.00         0\n",
      "          12       0.00      0.00      0.00         1\n",
      "          13       0.00      0.00      0.00         1\n",
      "          17       0.00      0.00      0.00         1\n",
      "\n",
      "    accuracy                           1.00      5820\n",
      "   macro avg       0.60      0.60      0.60      5820\n",
      "weighted avg       1.00      1.00      1.00      5820\n",
      "\n"
     ]
    },
    {
     "name": "stderr",
     "output_type": "stream",
     "text": [
      "C:\\Users\\hades\\Anaconda3\\lib\\site-packages\\sklearn\\metrics\\classification.py:1437: UndefinedMetricWarning: Precision and F-score are ill-defined and being set to 0.0 in labels with no predicted samples.\n",
      "  'precision', 'predicted', average, warn_for)\n",
      "C:\\Users\\hades\\Anaconda3\\lib\\site-packages\\sklearn\\metrics\\classification.py:1439: UndefinedMetricWarning: Recall and F-score are ill-defined and being set to 0.0 in labels with no true samples.\n",
      "  'recall', 'true', average, warn_for)\n"
     ]
    }
   ],
   "source": [
    "pred = knn.predict(X_test)\n",
    "print(confusion_matrix(y_test, pred))\n",
    "print(classification_report(y_test, pred))"
   ]
  },
  {
   "cell_type": "code",
   "execution_count": null,
   "metadata": {},
   "outputs": [],
   "source": []
  },
  {
   "cell_type": "code",
   "execution_count": null,
   "metadata": {},
   "outputs": [],
   "source": []
  }
 ],
 "metadata": {
  "kernelspec": {
   "display_name": "Python 3",
   "language": "python",
   "name": "python3"
  },
  "language_info": {
   "codemirror_mode": {
    "name": "ipython",
    "version": 3
   },
   "file_extension": ".py",
   "mimetype": "text/x-python",
   "name": "python",
   "nbconvert_exporter": "python",
   "pygments_lexer": "ipython3",
   "version": "3.7.1"
  }
 },
 "nbformat": 4,
 "nbformat_minor": 2
}
